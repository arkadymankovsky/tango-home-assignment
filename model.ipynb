{
 "cells": [
  {
   "cell_type": "code",
   "metadata": {
    "ExecuteTime": {
     "end_time": "2025-02-24T19:33:16.762153Z",
     "start_time": "2025-02-24T19:33:16.757035Z"
    }
   },
   "source": [
    "from surprise import Dataset, Reader, SVD\n",
    "from sklearn.model_selection import train_test_split\n",
    "from utils import load_data"
   ],
   "outputs": [],
   "execution_count": 2
  },
  {
   "metadata": {
    "ExecuteTime": {
     "end_time": "2025-02-24T20:14:11.613089Z",
     "start_time": "2025-02-24T20:14:11.606746Z"
    }
   },
   "cell_type": "code",
   "source": [
    "def prepare_data_unique_users(df):\n",
    "    df['item_id'] = df['usd'].astype(str) + '_' + df['coins'].astype(str)\n",
    "    df['user_hour'] = df['user_id'].astype(str) + '_' + df['hour'].astype(str)\n",
    "    unique_users = df.groupby(['user_hour', 'item_id'])['user_id'].nunique().reset_index(name='unique_users')\n",
    "    unique_users['rating'] = unique_users['unique_users'] / unique_users['unique_users'].max()\n",
    "    df = df.merge(unique_users[['user_hour', 'item_id', 'rating']], on=['user_hour', 'item_id'])\n",
    "    train_df, test_df = train_test_split(\n",
    "        df,\n",
    "        test_size=0.2,\n",
    "        random_state=42,\n",
    "        stratify=df['user_id']\n",
    "    )\n",
    "    \n",
    "    reader = Reader(rating_scale=(0, 1))\n",
    "    trainset = Dataset.load_from_df(\n",
    "        train_df[['user_hour', 'item_id', 'rating']], \n",
    "        reader\n",
    "    ).build_full_trainset()\n",
    "    \n",
    "    return trainset, train_df, test_df"
   ],
   "outputs": [],
   "execution_count": 42
  },
  {
   "cell_type": "code",
   "metadata": {
    "ExecuteTime": {
     "end_time": "2025-02-24T19:52:40.002663Z",
     "start_time": "2025-02-24T19:52:39.998422Z"
    }
   },
   "source": [
    "def train_model(trainset):\n",
    "    model = SVD(\n",
    "        n_factors=20,\n",
    "        n_epochs=30,\n",
    "        lr_all=0.1,\n",
    "    )\n",
    "    \n",
    "    model.fit(trainset)\n",
    "    return model"
   ],
   "outputs": [],
   "execution_count": 18
  },
  {
   "metadata": {
    "ExecuteTime": {
     "end_time": "2025-02-24T20:07:05.802582Z",
     "start_time": "2025-02-24T20:07:05.798243Z"
    }
   },
   "cell_type": "code",
   "source": [
    "def create_hourly_recommendations_table(df):\n",
    "    df['item_id'] = df['usd'].astype(str) + '_' + df['coins'].astype(str)\n",
    "    \n",
    "    hourly_recommendations = {}\n",
    "    \n",
    "    for hour in range(24):\n",
    "        hour_df = df[df['hour'] == hour]\n",
    "            \n",
    "        # Group by item_id to count purchases and unique users\n",
    "        grouped = hour_df.groupby(['item_id']).agg(\n",
    "            total_purchases=('user_id', 'count'),\n",
    "            unique_users=('user_id', 'nunique')\n",
    "        ).reset_index()\n",
    "        \n",
    "        grouped['purchases_per_user'] = grouped['total_purchases'] / grouped['unique_users']\n",
    "        max_purchases_per_user = grouped['purchases_per_user'].max()\n",
    "        grouped['normalized_score'] = grouped['purchases_per_user'] / max_purchases_per_user\n",
    "        grouped[['usd', 'coins']] = grouped['item_id'].str.split('_', expand=True)\n",
    "        result = grouped.sort_values('normalized_score', ascending=False)\n",
    "        hourly_recommendations[hour] = result\n",
    "    \n",
    "    return hourly_recommendations\n",
    "\n",
    "def get_top_items_for_hour(hourly_recommendations, target_hour, top_n=6):\n",
    "    recommendations = hourly_recommendations[target_hour]\n",
    "    top_items = recommendations.head(top_n)\n",
    "    result = top_items[['item_id', 'usd', 'coins', 'normalized_score', 'total_purchases', 'unique_users']]\n",
    "\n",
    "    return result"
   ],
   "outputs": [],
   "execution_count": 35
  },
  {
   "metadata": {
    "ExecuteTime": {
     "end_time": "2025-02-24T19:38:41.900097Z",
     "start_time": "2025-02-24T19:38:41.894372Z"
    }
   },
   "cell_type": "code",
   "source": [
    "def get_recommendations(model, train_df, user_id, hour, n_items=6):\n",
    "    user_hour = f\"{user_id}_{hour}\"\n",
    "    items = train_df['item_id'].unique()\n",
    "    predictions = [model.predict(user_hour, item_id) for item_id in items]\n",
    "    top_items = sorted(predictions, key=lambda x: x.est, reverse=True)[:n_items]\n",
    "    return [pred.iid for pred in top_items]"
   ],
   "outputs": [],
   "execution_count": 10
  },
  {
   "cell_type": "code",
   "metadata": {
    "ExecuteTime": {
     "end_time": "2025-02-24T20:14:38.326872Z",
     "start_time": "2025-02-24T20:14:15.729674Z"
    }
   },
   "source": [
    "df = load_data()\n",
    "trainset, train_df, test_df = prepare_data_unique_users(df)"
   ],
   "outputs": [],
   "execution_count": 43
  },
  {
   "cell_type": "code",
   "metadata": {
    "ExecuteTime": {
     "end_time": "2025-02-24T19:52:55.675288Z",
     "start_time": "2025-02-24T19:52:46.631260Z"
    }
   },
   "source": [
    "model = train_model(trainset)"
   ],
   "outputs": [],
   "execution_count": 19
  },
  {
   "metadata": {
    "ExecuteTime": {
     "end_time": "2025-02-24T20:07:11.175138Z",
     "start_time": "2025-02-24T20:07:09.663711Z"
    }
   },
   "cell_type": "code",
   "source": "hourly_recommendations = create_hourly_recommendations_table(df)",
   "outputs": [],
   "execution_count": 36
  },
  {
   "metadata": {
    "ExecuteTime": {
     "end_time": "2025-02-24T20:11:02.881242Z",
     "start_time": "2025-02-24T20:07:37.281128Z"
    }
   },
   "cell_type": "code",
   "source": [
    "hit_rate_model = 0\n",
    "hit_rate_baseline = 0\n",
    "sample_size = 1000\n",
    "for index, row  in test_df.sample(sample_size).iterrows():\n",
    "    user_id = row['user_id']\n",
    "    hour = row['hour']\n",
    "    actual_item = row['item_id']\n",
    "    predictions = get_recommendations(model, train_df, user_id, hour, 6)\n",
    "    baseline_result = get_top_items_for_hour(hourly_recommendations, hour)\n",
    "    if actual_item in predictions:\n",
    "        hit_rate_model += 1\n",
    "    if actual_item in baseline_result['item_id'].tolist():\n",
    "        hit_rate_baseline += 1\n",
    "print(hit_rate_model / sample_size)\n",
    "print(hit_rate_baseline / sample_size)"
   ],
   "outputs": [
    {
     "name": "stdout",
     "output_type": "stream",
     "text": [
      "0.284\n",
      "0.159\n"
     ]
    }
   ],
   "execution_count": 39
  },
  {
   "metadata": {},
   "cell_type": "code",
   "outputs": [],
   "execution_count": null,
   "source": ""
  }
 ],
 "metadata": {
  "kernelspec": {
   "display_name": "tango_env",
   "language": "python",
   "name": "python3"
  },
  "language_info": {
   "codemirror_mode": {
    "name": "ipython",
    "version": 3
   },
   "file_extension": ".py",
   "mimetype": "text/x-python",
   "name": "python",
   "nbconvert_exporter": "python",
   "pygments_lexer": "ipython3",
   "version": "3.11.11"
  }
 },
 "nbformat": 4,
 "nbformat_minor": 2
}
